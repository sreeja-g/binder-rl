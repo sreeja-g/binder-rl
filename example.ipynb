{
  "nbformat": 4,
  "nbformat_minor": 0,
  "metadata": {
    "colab": {
      "name": "example.ipynb",
      "provenance": []
    },
    "kernelspec": {
      "name": "python3",
      "display_name": "Python 3"
    },
    "language_info": {
      "name": "python"
    }
  },
  "cells": [
    {
      "cell_type": "code",
      "metadata": {
        "id": "-EBmALY_W78O"
      },
      "source": [
        "!pip2 install nengo\n",
        "!pip2 install numpy"
      ],
      "execution_count": null,
      "outputs": []
    },
    {
      "cell_type": "code",
      "metadata": {
        "id": "5r384cDSW2-0"
      },
      "source": [
        "import nengo\n",
        "import nengo_spinnaker\n",
        "import numpy as np\n",
        "\n",
        "model = nengo.Network()\n",
        "with model:\n",
        "    n = nengo.Node(np.sin)\n",
        "    e = nengo.Ensemble(nengo.LIF(100), 1)\n",
        "    p = nengo.Probe(e)\n",
        "\n",
        "    nengo.Connection(n, e)\n",
        "\n",
        "sim = nengo_spinnaker.Simulator(model)\n",
        "sim.run(10.)"
      ],
      "execution_count": null,
      "outputs": []
    }
  ]
}